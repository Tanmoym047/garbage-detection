{
  "nbformat": 4,
  "nbformat_minor": 0,
  "metadata": {
    "colab": {
      "provenance": [],
      "gpuType": "T4",
      "include_colab_link": true
    },
    "kernelspec": {
      "name": "python3",
      "display_name": "Python 3"
    },
    "language_info": {
      "name": "python"
    },
    "accelerator": "GPU"
  },
  "cells": [
    {
      "cell_type": "markdown",
      "metadata": {
        "id": "view-in-github",
        "colab_type": "text"
      },
      "source": [
        "<a href=\"https://colab.research.google.com/github/Tanmoym047/garbage-detection/blob/main/garbage_efficientB1.ipynb\" target=\"_parent\"><img src=\"https://colab.research.google.com/assets/colab-badge.svg\" alt=\"Open In Colab\"/></a>"
      ]
    },
    {
      "cell_type": "code",
      "execution_count": null,
      "metadata": {
        "id": "jgBUBLTUBYn1",
        "colab": {
          "base_uri": "https://localhost:8080/"
        },
        "outputId": "65744da1-1788-4aab-a544-291f2eb7fcdd"
      },
      "outputs": [
        {
          "output_type": "stream",
          "name": "stdout",
          "text": [
            "Mounted at /content/drive\n",
            "/content/garbage_project_resnet50\n"
          ]
        }
      ],
      "source": [
        "from google.colab import drive\n",
        "drive.mount('/content/drive')\n",
        "\n",
        "# Working dir\n",
        "import os, pathlib, sys, random, numpy as np, tensorflow as tf\n",
        "WORK_DIR = '/content/garbage_project_resnet50'\n",
        "os.makedirs(WORK_DIR, exist_ok=True)\n",
        "%cd $WORK_DIR\n"
      ]
    },
    {
      "cell_type": "code",
      "source": [
        "from google.colab import drive\n",
        "drive.mount('/content/drive')"
      ],
      "metadata": {
        "colab": {
          "base_uri": "https://localhost:8080/"
        },
        "id": "Ewv4j6IP_4e9",
        "outputId": "df814ee9-3b98-477c-c95a-15f9b487d8f0"
      },
      "execution_count": null,
      "outputs": [
        {
          "output_type": "stream",
          "name": "stdout",
          "text": [
            "Drive already mounted at /content/drive; to attempt to forcibly remount, call drive.mount(\"/content/drive\", force_remount=True).\n"
          ]
        }
      ]
    },
    {
      "cell_type": "code",
      "source": [
        "\n",
        "print(\"TensorFlow:\", tf.__version__)\n",
        "print(\"GPU:\", tf.config.list_physical_devices('GPU'))\n",
        "\n",
        "# (Optional) speed opts — safe on most Colab runtimes\n",
        "try:\n",
        "    tf.config.optimizer.set_jit(True)   # XLA\n",
        "except Exception as e:\n",
        "    print(\"XLA not enabled:\", e)\n",
        "try:\n",
        "    from tensorflow.keras.mixed_precision import set_global_policy\n",
        "    set_global_policy(\"mixed_float16\")  # automatic loss scaling on GPU\n",
        "    print(\"Mixed precision enabled.\")\n",
        "except Exception as e:\n",
        "    print(\"Mixed precision not enabled:\", e)"
      ],
      "metadata": {
        "id": "eVCbwKizP00E",
        "colab": {
          "base_uri": "https://localhost:8080/"
        },
        "outputId": "09c968f9-082e-4a56-cb25-34c48fbb08b0"
      },
      "execution_count": null,
      "outputs": [
        {
          "output_type": "stream",
          "name": "stdout",
          "text": [
            "TensorFlow: 2.19.0\n",
            "GPU: [PhysicalDevice(name='/physical_device:GPU:0', device_type='GPU')]\n",
            "Mixed precision enabled.\n"
          ]
        }
      ]
    },
    {
      "cell_type": "code",
      "source": [
        "# =========================\n",
        "# Colab cell 2: Point to dataset dir\n",
        "# =========================\n",
        "from pathlib import Path\n",
        "from PIL import Image, UnidentifiedImageError\n",
        "import pandas as pd\n",
        "from collections import Counter\n",
        "import matplotlib.pyplot as plt\n",
        "\n",
        "# If using Kaggle: auto-discover class root\n",
        "def find_class_root(base: Path, target_classes):\n",
        "    targets = set(c.lower() for c in target_classes)\n",
        "    for p in [base] + list(base.rglob(\"*\")):\n",
        "        if p.is_dir():\n",
        "            subs = [d.name.lower() for d in p.iterdir() if d.is_dir()]\n",
        "            if len(set(subs) & targets) >= 9:\n",
        "                return p\n",
        "    return base\n",
        "\n",
        "TARGET_CLASSES = [\"battery\",\"biological\",\"cardboard\",\"clothes\",\"glass\",\"metal\",\"paper\",\"plastic\",\"shoes\",\"trash\"]\n",
        "ALLOWED_EXTS   = {\".jpg\",\".jpeg\",\".png\",\".bmp\",\".webp\",\".jfif\"}\n",
        "\n",
        "    # 👇 change this to your Drive dataset folder if not using Kaggle\n",
        "DATA_DIR = Path('/content/drive/MyDrive/garbage-dataset')\n",
        "\n",
        "\n",
        "# Enumerate files, filter non-images & corrupts\n",
        "all_rows, bad_files = [], []\n",
        "for cls_dir in sorted([d for d in DATA_DIR.iterdir() if d.is_dir()]):\n",
        "    cname = cls_dir.name.lower()\n",
        "    if cname not in [c.lower() for c in TARGET_CLASSES]:\n",
        "        continue\n",
        "    for f in cls_dir.rglob(\"*\"):\n",
        "        if f.is_file() and f.suffix.lower() in ALLOWED_EXTS:\n",
        "            try:\n",
        "                with Image.open(f) as im: im.verify()\n",
        "                all_rows.append({\"filepath\": str(f), \"label\": cls_dir.name})\n",
        "            except (UnidentifiedImageError, OSError, ValueError):\n",
        "                bad_files.append(str(f))\n",
        "        elif f.is_file():\n",
        "            bad_files.append(str(f))\n",
        "\n",
        "df_all = pd.DataFrame(all_rows)\n",
        "print(\"Total valid images:\", len(df_all), \" | Skipped bad/non-images:\", len(bad_files))\n",
        "\n",
        "# Class list & counts\n",
        "classes = sorted(df_all['label'].unique().tolist())\n",
        "print(\"Classes:\", classes)\n",
        "cnt = df_all['label'].value_counts().loc[classes]\n",
        "cnt.plot(kind=\"bar\", figsize=(10,3), title=\"Class Distribution — Full Dataset\")\n",
        "plt.xticks(rotation=45); plt.tight_layout(); plt.show()\n"
      ],
      "metadata": {
        "id": "0RMAuLILP1Gc",
        "colab": {
          "base_uri": "https://localhost:8080/",
          "height": 342
        },
        "outputId": "99a86718-0418-428c-ca2f-339d6a2f604b"
      },
      "execution_count": null,
      "outputs": [
        {
          "output_type": "stream",
          "name": "stdout",
          "text": [
            "Total valid images: 19776  | Skipped bad/non-images: 0\n",
            "Classes: ['battery', 'biological', 'cardboard', 'clothes', 'glass', 'metal', 'paper', 'plastic', 'shoes', 'trash']\n"
          ]
        },
        {
          "output_type": "display_data",
          "data": {
            "text/plain": [
              "<Figure size 1000x300 with 1 Axes>"
            ],
            "image/png": "[encoded data removed]"
          },
          "metadata": {}
        }
      ]
    },
    {
      "cell_type": "code",
      "source": [
        "# =========================\n",
        "# Colab cell 3: Stratified 80/10/10 split\n",
        "# =========================\n",
        "from sklearn.model_selection import train_test_split\n",
        "import os\n",
        "\n",
        "SEED = 42\n",
        "train_df, temp_df = train_test_split(df_all, test_size=0.20, stratify=df_all['label'], random_state=SEED)\n",
        "val_df,   test_df = train_test_split(temp_df, test_size=0.50, stratify=temp_df['label'], random_state=SEED)\n",
        "\n",
        "print(\"Train:\", train_df.shape, \" Val:\", val_df.shape, \" Test:\", test_df.shape)\n",
        "\n",
        "# Save CSVs (reproducibility)\n",
        "os.makedirs(\"splits\", exist_ok=True)\n",
        "train_df.to_csv(\"splits/train.csv\", index=False)\n",
        "val_df.to_csv(\"splits/val.csv\", index=False)\n",
        "test_df.to_csv(\"splits/test.csv\", index=False)\n",
        "\n",
        "# Class distribution in each split\n",
        "fig, axes = plt.subplots(1,3, figsize=(16,4), sharey=True)\n",
        "for ax, df, title in zip(axes, [train_df,val_df,test_df], [\"Train\",\"Val\",\"Test\"]):\n",
        "    counts = df['label'].value_counts().loc[classes]\n",
        "    counts.plot(kind=\"bar\", ax=ax, title=title)\n",
        "    ax.tick_params(axis='x', rotation=60)\n",
        "plt.tight_layout(); plt.show()\n",
        "\n",
        "print(\"Saved splits to ./splits/ (include in paper supplementary).\")\n"
      ],
      "metadata": {
        "id": "H4slIwBhP4hS",
        "colab": {
          "base_uri": "https://localhost:8080/",
          "height": 381
        },
        "outputId": "efa27ac4-d192-4d15-ff95-190f392d1916"
      },
      "execution_count": null,
      "outputs": [
        {
          "output_type": "stream",
          "name": "stdout",
          "text": [
            "Train: (15820, 2)  Val: (1978, 2)  Test: (1978, 2)\n"
          ]
        },
        {
          "output_type": "display_data",
          "data": {
            "text/plain": [
              "<Figure size 1600x400 with 3 Axes>"
            ],
            "image/png": "[encoded data removed]"
          },
          "metadata": {}
        },
        {
          "output_type": "stream",
          "name": "stdout",
          "text": [
            "Saved splits to ./splits/ (include in paper supplementary).\n"
          ]
        }
      ]
    },
    {
      "cell_type": "code",
      "source": [
        "# =========================\n",
        "# Colab cell 4: tf.data pipelines\n",
        "# =========================\n",
        "import tensorflow as tf\n",
        "import numpy as np\n",
        "AUTOTUNE = tf.data.AUTOTUNE\n",
        "\n",
        "# EfficientNetB1 default resolution\n",
        "IMG_SIZE = 240          # <-- was 224 for ResNet\n",
        "BATCH_SIZE = 32         # If you hit OOM, try 24 or 16\n",
        "\n",
        "# Label mapping\n",
        "class_to_index = {c:i for i,c in enumerate(classes)}\n",
        "index_to_class = {i:c for c,i in class_to_index.items()}\n",
        "\n",
        "def df_to_dataset(df, shuffle=True, augment=False, cache=False):\n",
        "    paths  = df['filepath'].values\n",
        "    labels = df['label'].map(class_to_index).astype(np.int32).values\n",
        "    ds = tf.data.Dataset.from_tensor_slices((paths, labels))\n",
        "    if shuffle:\n",
        "        ds = ds.shuffle(min(len(paths), 4000), seed=SEED, reshuffle_each_iteration=True)\n",
        "\n",
        "    def _load(path, label):\n",
        "        img_b = tf.io.read_file(path)\n",
        "        img   = tf.io.decode_image(img_b, channels=3, expand_animations=False)   # RGB\n",
        "        img.set_shape([None, None, 3])\n",
        "        img   = tf.image.resize(img, [IMG_SIZE, IMG_SIZE], method=\"bilinear\")\n",
        "        img   = tf.cast(img, tf.float32)  # keep 0..255; EfficientNet preprocess layer will handle scaling\n",
        "        return img, label\n",
        "\n",
        "    ds = ds.map(_load, num_parallel_calls=AUTOTUNE)\n",
        "\n",
        "    # Augment (train only)\n",
        "    aug = tf.keras.Sequential([\n",
        "        tf.keras.layers.RandomFlip(\"horizontal\"),\n",
        "        tf.keras.layers.RandomRotation(0.08),\n",
        "        tf.keras.layers.RandomZoom(0.10),\n",
        "        tf.keras.layers.RandomContrast(0.10),\n",
        "    ], name=\"augment\")\n",
        "\n",
        "    def _aug(x,y):\n",
        "        x = tf.image.random_brightness(x, max_delta=20.0)  # still safe on 0..255 range\n",
        "        x = tf.clip_by_value(x, 0.0, 255.0)\n",
        "        x = aug(x, training=True)\n",
        "        return x, y\n",
        "\n",
        "    if augment:\n",
        "        ds = ds.map(_aug, num_parallel_calls=AUTOTUNE)\n",
        "\n",
        "    ds = ds.batch(BATCH_SIZE, drop_remainder=False)\n",
        "    if cache: ds = ds.cache()\n",
        "    ds = ds.prefetch(AUTOTUNE)\n",
        "    try:\n",
        "        ds = ds.apply(tf.data.experimental.ignore_errors())\n",
        "    except:\n",
        "        pass\n",
        "    return ds\n",
        "\n",
        "train_ds = df_to_dataset(train_df, shuffle=True,  augment=True,  cache=False)\n",
        "val_ds   = df_to_dataset(val_df,   shuffle=False, augment=False, cache=False)\n",
        "test_ds  = df_to_dataset(test_df,  shuffle=False, augment=False, cache=False)\n",
        "\n",
        "for imgs, labs in train_ds.take(1):\n",
        "    print(\"Sanity batch:\", imgs.shape, labs.shape, imgs.dtype)\n"
      ],
      "metadata": {
        "id": "9Pk5c2dzRdQ0",
        "colab": {
          "base_uri": "https://localhost:8080/"
        },
        "outputId": "e4e43b38-db4c-4d71-c50f-6c945416dc28"
      },
      "execution_count": null,
      "outputs": [
        {
          "output_type": "stream",
          "name": "stderr",
          "text": [
            "WARNING:tensorflow:From /tmp/ipython-input-1483026606.py:49: ignore_errors (from tensorflow.python.data.experimental.ops.error_ops) is deprecated and will be removed in a future version.\n",
            "Instructions for updating:\n",
            "Use `tf.data.Dataset.ignore_errors` instead.\n"
          ]
        },
        {
          "output_type": "stream",
          "name": "stdout",
          "text": [
            "Sanity batch: (32, 224, 224, 3) (32,) <dtype: 'float16'>\n"
          ]
        }
      ]
    },
    {
      "cell_type": "code",
      "source": [
        "# =========================\n",
        "# Colab cell 5: Class weights\n",
        "# =========================\n",
        "from sklearn.utils.class_weight import compute_class_weight\n",
        "y_train = train_df['label'].map(class_to_index).values\n",
        "cw = compute_class_weight(class_weight='balanced',\n",
        "                          classes=np.arange(len(classes)),\n",
        "                          y=y_train)\n",
        "CLASS_WEIGHTS = {i: float(w) for i,w in enumerate(cw)}\n",
        "print(\"Class weights:\", {index_to_class[i]: round(w,3) for i,w in CLASS_WEIGHTS.items()})\n"
      ],
      "metadata": {
        "id": "PS85BxKERgN4",
        "colab": {
          "base_uri": "https://localhost:8080/"
        },
        "outputId": "a7ff0461-ae3b-4f07-f7c2-d9be2192ba7c"
      },
      "execution_count": null,
      "outputs": [
        {
          "output_type": "stream",
          "name": "stdout",
          "text": [
            "Class weights: {'battery': 2.095, 'biological': 1.985, 'cardboard': 1.084, 'clothes': 0.37, 'glass': 0.646, 'metal': 1.939, 'paper': 1.177, 'plastic': 0.997, 'shoes': 1.001, 'trash': 2.087}\n"
          ]
        }
      ]
    },
    {
      "cell_type": "code",
      "source": [
        "# =========================\n",
        "# Colab cell 6: Model build (EfficientNetB1)\n",
        "# =========================\n",
        "from tensorflow.keras import layers, models, optimizers\n",
        "from tensorflow.keras.applications import EfficientNetB1\n",
        "from tensorflow.keras.applications.efficientnet import preprocess_input as en_preprocess\n",
        "import numpy as np\n",
        "\n",
        "def build_efficientnetb1(input_shape=(IMG_SIZE, IMG_SIZE, 3), num_classes=len(classes), dropout=0.4):\n",
        "    inputs = layers.Input(shape=input_shape, name=\"image\")\n",
        "\n",
        "    # EfficientNetB1 expects 0..255 floats; this layer applies the official preprocessing\n",
        "    x = layers.Lambda(en_preprocess, name=\"preprocess\")(inputs)\n",
        "\n",
        "    # Base model\n",
        "    base = EfficientNetB1(include_top=False, weights=\"imagenet\", input_tensor=x)\n",
        "    base.trainable = False  # freeze encoder for Stage A\n",
        "\n",
        "    x = base.output\n",
        "    x = layers.GlobalAveragePooling2D()(x)\n",
        "    x = layers.Dropout(dropout)(x)\n",
        "    outputs = layers.Dense(num_classes, activation=\"softmax\", dtype=\"float32\")(x)  # keep float32 head for mixed precision\n",
        "\n",
        "    model = models.Model(inputs, outputs, name=\"EfficientNetB1_Garbage\")\n",
        "\n",
        "    # convenient handles for fine-tuning later\n",
        "    model._base = base\n",
        "    model._unfreeze_k = 40   # unfreeze ~top 40 layers in Stage B (tune if you like)\n",
        "\n",
        "    model.summary(line_length=110)\n",
        "    trainable = np.sum([np.prod(v.shape) for v in model.trainable_weights])\n",
        "    nontrain  = np.sum([np.prod(v.shape) for v in model.non_trainable_weights])\n",
        "    print(f\"Trainable params: {trainable:,} | Non-trainable: {nontrain:,}\")\n",
        "    return model\n",
        "\n",
        "model = build_efficientnetb1()\n"
      ],
      "metadata": {
        "id": "vrncFWNaRoE-",
        "colab": {
          "base_uri": "https://localhost:8080/",
          "height": 389
        },
        "outputId": "82c1d258-3a35-4d42-c2cf-19d958ffed7c"
      },
      "execution_count": null,
      "outputs": [
        {
          "output_type": "stream",
          "name": "stdout",
          "text": [
            "Downloading data from https://storage.googleapis.com/tensorflow/keras-applications/resnet/resnet50_weights_tf_dim_ordering_tf_kernels_notop.h5\n",
            "\u001b[1m94765736/94765736\u001b[0m \u001b[32m━━━━━━━━━━━━━━━━━━━━\u001b[0m\u001b[37m\u001b[0m \u001b[1m0s\u001b[0m 0us/step\n"
          ]
        },
        {
          "output_type": "display_data",
          "data": {
            "text/plain": [
              "\u001b[1mModel: \"ResNet50_Garbage\"\u001b[0m\n"
            ],
            "text/html": [
              "<pre style=\"white-space:pre;overflow-x:auto;line-height:normal;font-family:Menlo,'DejaVu Sans Mono',consolas,'Courier New',monospace\"><span style=\"font-weight: bold\">Model: \"ResNet50_Garbage\"</span>\n",
              "</pre>\n"
            ]
          },
          "metadata": {}
        },
        {
          "output_type": "display_data",
          "data": {
            "text/plain": [
              "┏━━━━━━━━━━━━━━━━━━━━━━━━━━━━━━━━━━━━━━━━━━━━━━━━┳━━━━━━━━━━━━━━━━━━━━━━━━━━━━━━━━━━━━━┳━━━━━━━━━━━━━━━━━━━━━┓\n",
              "┃\u001b[1m \u001b[0m\u001b[1mLayer (type)                                  \u001b[0m\u001b[1m \u001b[0m┃\u001b[1m \u001b[0m\u001b[1mOutput Shape                       \u001b[0m\u001b[1m \u001b[0m┃\u001b[1m \u001b[0m\u001b[1m            Param #\u001b[0m\u001b[1m \u001b[0m┃\n",
              "┡━━━━━━━━━━━━━━━━━━━━━━━━━━━━━━━━━━━━━━━━━━━━━━━━╇━━━━━━━━━━━━━━━━━━━━━━━━━━━━━━━━━━━━━╇━━━━━━━━━━━━━━━━━━━━━┩\n",
              "│ image (\u001b[38;5;33mInputLayer\u001b[0m)                             │ (\u001b[38;5;45mNone\u001b[0m, \u001b[38;5;34m224\u001b[0m, \u001b[38;5;34m224\u001b[0m, \u001b[38;5;34m3\u001b[0m)                 │                   \u001b[38;5;34m0\u001b[0m │\n",
              "├────────────────────────────────────────────────┼─────────────────────────────────────┼─────────────────────┤\n",
              "│ preprocess (\u001b[38;5;33mLambda\u001b[0m)                            │ (\u001b[38;5;45mNone\u001b[0m, \u001b[38;5;34m224\u001b[0m, \u001b[38;5;34m224\u001b[0m, \u001b[38;5;34m3\u001b[0m)                 │                   \u001b[38;5;34m0\u001b[0m │\n",
              "├────────────────────────────────────────────────┼─────────────────────────────────────┼─────────────────────┤\n",
              "│ resnet50 (\u001b[38;5;33mFunctional\u001b[0m)                          │ (\u001b[38;5;45mNone\u001b[0m, \u001b[38;5;34m7\u001b[0m, \u001b[38;5;34m7\u001b[0m, \u001b[38;5;34m2048\u001b[0m)                  │          \u001b[38;5;34m23,587,712\u001b[0m │\n",
              "├────────────────────────────────────────────────┼─────────────────────────────────────┼─────────────────────┤\n",
              "│ global_average_pooling2d                       │ (\u001b[38;5;45mNone\u001b[0m, \u001b[38;5;34m2048\u001b[0m)                        │                   \u001b[38;5;34m0\u001b[0m │\n",
              "│ (\u001b[38;5;33mGlobalAveragePooling2D\u001b[0m)                       │                                     │                     │\n",
              "├────────────────────────────────────────────────┼─────────────────────────────────────┼─────────────────────┤\n",
              "│ dropout (\u001b[38;5;33mDropout\u001b[0m)                              │ (\u001b[38;5;45mNone\u001b[0m, \u001b[38;5;34m2048\u001b[0m)                        │                   \u001b[38;5;34m0\u001b[0m │\n",
              "├────────────────────────────────────────────────┼─────────────────────────────────────┼─────────────────────┤\n",
              "│ dense (\u001b[38;5;33mDense\u001b[0m)                                  │ (\u001b[38;5;45mNone\u001b[0m, \u001b[38;5;34m10\u001b[0m)                          │              \u001b[38;5;34m20,490\u001b[0m │\n",
              "└────────────────────────────────────────────────┴─────────────────────────────────────┴─────────────────────┘\n"
            ],
            "text/html": [
              "<pre style=\"white-space:pre;overflow-x:auto;line-height:normal;font-family:Menlo,'DejaVu Sans Mono',consolas,'Courier New',monospace\">┏━━━━━━━━━━━━━━━━━━━━━━━━━━━━━━━━━━━━━━━━━━━━━━━━┳━━━━━━━━━━━━━━━━━━━━━━━━━━━━━━━━━━━━━┳━━━━━━━━━━━━━━━━━━━━━┓\n",
              "┃<span style=\"font-weight: bold\"> Layer (type)                                   </span>┃<span style=\"font-weight: bold\"> Output Shape                        </span>┃<span style=\"font-weight: bold\">             Param # </span>┃\n",
              "┡━━━━━━━━━━━━━━━━━━━━━━━━━━━━━━━━━━━━━━━━━━━━━━━━╇━━━━━━━━━━━━━━━━━━━━━━━━━━━━━━━━━━━━━╇━━━━━━━━━━━━━━━━━━━━━┩\n",
              "│ image (<span style=\"color: #0087ff; text-decoration-color: #0087ff\">InputLayer</span>)                             │ (<span style=\"color: #00d7ff; text-decoration-color: #00d7ff\">None</span>, <span style=\"color: #00af00; text-decoration-color: #00af00\">224</span>, <span style=\"color: #00af00; text-decoration-color: #00af00\">224</span>, <span style=\"color: #00af00; text-decoration-color: #00af00\">3</span>)                 │                   <span style=\"color: #00af00; text-decoration-color: #00af00\">0</span> │\n",
              "├────────────────────────────────────────────────┼─────────────────────────────────────┼─────────────────────┤\n",
              "│ preprocess (<span style=\"color: #0087ff; text-decoration-color: #0087ff\">Lambda</span>)                            │ (<span style=\"color: #00d7ff; text-decoration-color: #00d7ff\">None</span>, <span style=\"color: #00af00; text-decoration-color: #00af00\">224</span>, <span style=\"color: #00af00; text-decoration-color: #00af00\">224</span>, <span style=\"color: #00af00; text-decoration-color: #00af00\">3</span>)                 │                   <span style=\"color: #00af00; text-decoration-color: #00af00\">0</span> │\n",
              "├────────────────────────────────────────────────┼─────────────────────────────────────┼─────────────────────┤\n",
              "│ resnet50 (<span style=\"color: #0087ff; text-decoration-color: #0087ff\">Functional</span>)                          │ (<span style=\"color: #00d7ff; text-decoration-color: #00d7ff\">None</span>, <span style=\"color: #00af00; text-decoration-color: #00af00\">7</span>, <span style=\"color: #00af00; text-decoration-color: #00af00\">7</span>, <span style=\"color: #00af00; text-decoration-color: #00af00\">2048</span>)                  │          <span style=\"color: #00af00; text-decoration-color: #00af00\">23,587,712</span> │\n",
              "├────────────────────────────────────────────────┼─────────────────────────────────────┼─────────────────────┤\n",
              "│ global_average_pooling2d                       │ (<span style=\"color: #00d7ff; text-decoration-color: #00d7ff\">None</span>, <span style=\"color: #00af00; text-decoration-color: #00af00\">2048</span>)                        │                   <span style=\"color: #00af00; text-decoration-color: #00af00\">0</span> │\n",
              "│ (<span style=\"color: #0087ff; text-decoration-color: #0087ff\">GlobalAveragePooling2D</span>)                       │                                     │                     │\n",
              "├────────────────────────────────────────────────┼─────────────────────────────────────┼─────────────────────┤\n",
              "│ dropout (<span style=\"color: #0087ff; text-decoration-color: #0087ff\">Dropout</span>)                              │ (<span style=\"color: #00d7ff; text-decoration-color: #00d7ff\">None</span>, <span style=\"color: #00af00; text-decoration-color: #00af00\">2048</span>)                        │                   <span style=\"color: #00af00; text-decoration-color: #00af00\">0</span> │\n",
              "├────────────────────────────────────────────────┼─────────────────────────────────────┼─────────────────────┤\n",
              "│ dense (<span style=\"color: #0087ff; text-decoration-color: #0087ff\">Dense</span>)                                  │ (<span style=\"color: #00d7ff; text-decoration-color: #00d7ff\">None</span>, <span style=\"color: #00af00; text-decoration-color: #00af00\">10</span>)                          │              <span style=\"color: #00af00; text-decoration-color: #00af00\">20,490</span> │\n",
              "└────────────────────────────────────────────────┴─────────────────────────────────────┴─────────────────────┘\n",
              "</pre>\n"
            ]
          },
          "metadata": {}
        },
        {
          "output_type": "display_data",
          "data": {
            "text/plain": [
              "\u001b[1m Total params: \u001b[0m\u001b[38;5;34m23,608,202\u001b[0m (90.06 MB)\n"
            ],
            "text/html": [
              "<pre style=\"white-space:pre;overflow-x:auto;line-height:normal;font-family:Menlo,'DejaVu Sans Mono',consolas,'Courier New',monospace\"><span style=\"font-weight: bold\"> Total params: </span><span style=\"color: #00af00; text-decoration-color: #00af00\">23,608,202</span> (90.06 MB)\n",
              "</pre>\n"
            ]
          },
          "metadata": {}
        },
        {
          "output_type": "display_data",
          "data": {
            "text/plain": [
              "\u001b[1m Trainable params: \u001b[0m\u001b[38;5;34m20,490\u001b[0m (80.04 KB)\n"
            ],
            "text/html": [
              "<pre style=\"white-space:pre;overflow-x:auto;line-height:normal;font-family:Menlo,'DejaVu Sans Mono',consolas,'Courier New',monospace\"><span style=\"font-weight: bold\"> Trainable params: </span><span style=\"color: #00af00; text-decoration-color: #00af00\">20,490</span> (80.04 KB)\n",
              "</pre>\n"
            ]
          },
          "metadata": {}
        },
        {
          "output_type": "display_data",
          "data": {
            "text/plain": [
              "\u001b[1m Non-trainable params: \u001b[0m\u001b[38;5;34m23,587,712\u001b[0m (89.98 MB)\n"
            ],
            "text/html": [
              "<pre style=\"white-space:pre;overflow-x:auto;line-height:normal;font-family:Menlo,'DejaVu Sans Mono',consolas,'Courier New',monospace\"><span style=\"font-weight: bold\"> Non-trainable params: </span><span style=\"color: #00af00; text-decoration-color: #00af00\">23,587,712</span> (89.98 MB)\n",
              "</pre>\n"
            ]
          },
          "metadata": {}
        },
        {
          "output_type": "stream",
          "name": "stdout",
          "text": [
            "Trainable params: 20,490 | Non-trainable: 23,587,712\n"
          ]
        }
      ]
    },
    {
      "cell_type": "code",
      "source": [
        "# =========================\n",
        "# Colab cell 7: Stage A training (head only)\n",
        "# =========================\n",
        "import time\n",
        "class EpochTimer(tf.keras.callbacks.Callback):\n",
        "    def on_train_begin(self, logs=None): self.times=[]\n",
        "    def on_epoch_begin(self, epoch, logs=None): self._t=time.time()\n",
        "    def on_epoch_end(self, epoch, logs=None): self.times.append(time.time()-self._t)\n",
        "\n",
        "EPOCHS_STAGE1 = 10\n",
        "timerA = EpochTimer()\n",
        "model.compile(\n",
        "    optimizer=optimizers.Adam(learning_rate=1e-3),\n",
        "    loss=tf.keras.losses.SparseCategoricalCrossentropy(),\n",
        "    metrics=['accuracy']\n",
        ")\n",
        "cbA = [\n",
        "    tf.keras.callbacks.ModelCheckpoint(\"efficientnetb1_stage1.keras\", monitor=\"val_loss\", save_best_only=True, verbose=1),\n",
        "    tf.keras.callbacks.ReduceLROnPlateau(monitor=\"val_loss\", factor=0.5, patience=2, min_lr=1e-7, verbose=1),\n",
        "    tf.keras.callbacks.EarlyStopping(monitor=\"val_loss\", patience=5, restore_best_weights=True, verbose=1),\n",
        "    timerA\n",
        "]\n",
        "histA = model.fit(\n",
        "    train_ds, validation_data=val_ds, epochs=EPOCHS_STAGE1,\n",
        "    class_weight=CLASS_WEIGHTS, callbacks=cbA, verbose=1\n",
        ")\n"
      ],
      "metadata": {
        "id": "lWFVplsJRsAf",
        "colab": {
          "base_uri": "https://localhost:8080/"
        },
        "outputId": "78140441-5d78-405d-c45d-d636e3156c8a"
      },
      "execution_count": null,
      "outputs": [
        {
          "output_type": "stream",
          "name": "stdout",
          "text": [
            "Epoch 1/10\n",
            "    493/Unknown \u001b[1m506s\u001b[0m 991ms/step - accuracy: 0.7214 - loss: 0.9843"
          ]
        },
        {
          "output_type": "stream",
          "name": "stderr",
          "text": [
            "/usr/local/lib/python3.12/dist-packages/keras/src/trainers/epoch_iterator.py:160: UserWarning: Your input ran out of data; interrupting training. Make sure that your dataset or generator can generate at least `steps_per_epoch * epochs` batches. You may need to use the `.repeat()` function when building your dataset.\n",
            "  self._interrupted_warning()\n"
          ]
        },
        {
          "output_type": "stream",
          "name": "stdout",
          "text": [
            "\n",
            "Epoch 1: val_loss improved from inf to 0.27898, saving model to resnet101_stage1.keras\n",
            "\u001b[1m493/493\u001b[0m \u001b[32m━━━━━━━━━━━━━━━━━━━━\u001b[0m\u001b[37m\u001b[0m \u001b[1m536s\u001b[0m 1s/step - accuracy: 0.7216 - loss: 0.9836 - val_accuracy: 0.9162 - val_loss: 0.2790 - learning_rate: 0.0010\n",
            "Epoch 2/10\n",
            "\u001b[1m493/493\u001b[0m \u001b[32m━━━━━━━━━━━━━━━━━━━━\u001b[0m\u001b[37m\u001b[0m \u001b[1m0s\u001b[0m 581ms/step - accuracy: 0.8924 - loss: 0.3661\n",
            "Epoch 2: val_loss improved from 0.27898 to 0.26994, saving model to resnet101_stage1.keras\n",
            "\u001b[1m493/493\u001b[0m \u001b[32m━━━━━━━━━━━━━━━━━━━━\u001b[0m\u001b[37m\u001b[0m \u001b[1m296s\u001b[0m 601ms/step - accuracy: 0.8924 - loss: 0.3660 - val_accuracy: 0.9291 - val_loss: 0.2699 - learning_rate: 0.0010\n",
            "Epoch 3/10\n",
            "\u001b[1m493/493\u001b[0m \u001b[32m━━━━━━━━━━━━━━━━━━━━\u001b[0m\u001b[37m\u001b[0m \u001b[1m0s\u001b[0m 579ms/step - accuracy: 0.9079 - loss: 0.3033\n",
            "Epoch 3: val_loss improved from 0.26994 to 0.23652, saving model to resnet101_stage1.keras\n",
            "\u001b[1m493/493\u001b[0m \u001b[32m━━━━━━━━━━━━━━━━━━━━\u001b[0m\u001b[37m\u001b[0m \u001b[1m295s\u001b[0m 598ms/step - accuracy: 0.9079 - loss: 0.3033 - val_accuracy: 0.9306 - val_loss: 0.2365 - learning_rate: 0.0010\n",
            "Epoch 4/10\n",
            "\u001b[1m493/493\u001b[0m \u001b[32m━━━━━━━━━━━━━━━━━━━━\u001b[0m\u001b[37m\u001b[0m \u001b[1m0s\u001b[0m 581ms/step - accuracy: 0.9182 - loss: 0.2801\n",
            "Epoch 4: val_loss improved from 0.23652 to 0.22552, saving model to resnet101_stage1.keras\n",
            "\u001b[1m493/493\u001b[0m \u001b[32m━━━━━━━━━━━━━━━━━━━━\u001b[0m\u001b[37m\u001b[0m \u001b[1m322s\u001b[0m 600ms/step - accuracy: 0.9182 - loss: 0.2801 - val_accuracy: 0.9347 - val_loss: 0.2255 - learning_rate: 0.0010\n",
            "Epoch 5/10\n",
            "\u001b[1m493/493\u001b[0m \u001b[32m━━━━━━━━━━━━━━━━━━━━\u001b[0m\u001b[37m\u001b[0m \u001b[1m0s\u001b[0m 581ms/step - accuracy: 0.9186 - loss: 0.2753\n",
            "Epoch 5: val_loss did not improve from 0.22552\n",
            "\u001b[1m493/493\u001b[0m \u001b[32m━━━━━━━━━━━━━━━━━━━━\u001b[0m\u001b[37m\u001b[0m \u001b[1m295s\u001b[0m 599ms/step - accuracy: 0.9185 - loss: 0.2753 - val_accuracy: 0.9239 - val_loss: 0.2548 - learning_rate: 0.0010\n",
            "Epoch 6/10\n",
            "\u001b[1m493/493\u001b[0m \u001b[32m━━━━━━━━━━━━━━━━━━━━\u001b[0m\u001b[37m\u001b[0m \u001b[1m0s\u001b[0m 581ms/step - accuracy: 0.9181 - loss: 0.2602\n",
            "Epoch 6: val_loss did not improve from 0.22552\n",
            "\n",
            "Epoch 6: ReduceLROnPlateau reducing learning rate to 0.0005000000237487257.\n",
            "\u001b[1m493/493\u001b[0m \u001b[32m━━━━━━━━━━━━━━━━━━━━\u001b[0m\u001b[37m\u001b[0m \u001b[1m294s\u001b[0m 596ms/step - accuracy: 0.9181 - loss: 0.2602 - val_accuracy: 0.9250 - val_loss: 0.2714 - learning_rate: 0.0010\n",
            "Epoch 7/10\n",
            "\u001b[1m493/493\u001b[0m \u001b[32m━━━━━━━━━━━━━━━━━━━━\u001b[0m\u001b[37m\u001b[0m \u001b[1m0s\u001b[0m 583ms/step - accuracy: 0.9288 - loss: 0.2258\n",
            "Epoch 7: val_loss improved from 0.22552 to 0.22241, saving model to resnet101_stage1.keras\n",
            "\u001b[1m493/493\u001b[0m \u001b[32m━━━━━━━━━━━━━━━━━━━━\u001b[0m\u001b[37m\u001b[0m \u001b[1m315s\u001b[0m 639ms/step - accuracy: 0.9288 - loss: 0.2258 - val_accuracy: 0.9394 - val_loss: 0.2224 - learning_rate: 5.0000e-04\n",
            "Epoch 8/10\n",
            "\u001b[1m493/493\u001b[0m \u001b[32m━━━━━━━━━━━━━━━━━━━━\u001b[0m\u001b[37m\u001b[0m \u001b[1m0s\u001b[0m 583ms/step - accuracy: 0.9295 - loss: 0.2220\n",
            "Epoch 8: val_loss improved from 0.22241 to 0.21191, saving model to resnet101_stage1.keras\n",
            "\u001b[1m493/493\u001b[0m \u001b[32m━━━━━━━━━━━━━━━━━━━━\u001b[0m\u001b[37m\u001b[0m \u001b[1m297s\u001b[0m 602ms/step - accuracy: 0.9295 - loss: 0.2221 - val_accuracy: 0.9388 - val_loss: 0.2119 - learning_rate: 5.0000e-04\n",
            "Epoch 9/10\n",
            "\u001b[1m493/493\u001b[0m \u001b[32m━━━━━━━━━━━━━━━━━━━━\u001b[0m\u001b[37m\u001b[0m \u001b[1m0s\u001b[0m 586ms/step - accuracy: 0.9358 - loss: 0.2092\n",
            "Epoch 9: val_loss did not improve from 0.21191\n",
            "\u001b[1m493/493\u001b[0m \u001b[32m━━━━━━━━━━━━━━━━━━━━\u001b[0m\u001b[37m\u001b[0m \u001b[1m298s\u001b[0m 604ms/step - accuracy: 0.9358 - loss: 0.2093 - val_accuracy: 0.9373 - val_loss: 0.2248 - learning_rate: 5.0000e-04\n",
            "Epoch 10/10\n",
            "\u001b[1m493/493\u001b[0m \u001b[32m━━━━━━━━━━━━━━━━━━━━\u001b[0m\u001b[37m\u001b[0m \u001b[1m0s\u001b[0m 584ms/step - accuracy: 0.9312 - loss: 0.2171\n",
            "Epoch 10: val_loss improved from 0.21191 to 0.20624, saving model to resnet101_stage1.keras\n",
            "\u001b[1m493/493\u001b[0m \u001b[32m━━━━━━━━━━━━━━━━━━━━\u001b[0m\u001b[37m\u001b[0m \u001b[1m298s\u001b[0m 603ms/step - accuracy: 0.9312 - loss: 0.2171 - val_accuracy: 0.9394 - val_loss: 0.2062 - learning_rate: 5.0000e-04\n",
            "Restoring model weights from the end of the best epoch: 10.\n"
          ]
        }
      ]
    },
    {
      "cell_type": "code",
      "source": [
        "# =========================\n",
        "# Colab cell 8: Stage B fine-tuning (top layers)\n",
        "# =========================\n",
        "# Unfreeze top-k layers of the base\n",
        "k = getattr(model, \"_unfreeze_k\", 40)\n",
        "model._base.trainable = True\n",
        "for layer in model._base.layers[:-k]:\n",
        "    layer.trainable = False\n",
        "for layer in model._base.layers[-k:]:\n",
        "    layer.trainable = True\n",
        "\n",
        "EPOCHS_STAGE2 = 10\n",
        "timerB = EpochTimer()\n",
        "model.compile(\n",
        "    optimizer=optimizers.Adam(learning_rate=1e-5),\n",
        "    loss=tf.keras.losses.SparseCategoricalCrossentropy(),\n",
        "    metrics=['accuracy']\n",
        ")\n",
        "cbB = [\n",
        "    tf.keras.callbacks.ModelCheckpoint(\"efficientnetb1_finetuned.keras\", monitor=\"val_loss\", save_best_only=True, verbose=1),\n",
        "    tf.keras.callbacks.ReduceLROnPlateau(monitor=\"val_loss\", factor=0.5, patience=2, min_lr=1e-7, verbose=1),\n",
        "    tf.keras.callbacks.EarlyStopping(monitor=\"val_loss\", patience=5, restore_best_weights=True, verbose=1),\n",
        "    timerB\n",
        "]\n",
        "histB = model.fit(\n",
        "    train_ds, validation_data=val_ds, epochs=EPOCHS_STAGE2,\n",
        "    class_weight=CLASS_WEIGHTS, callbacks=cbB, verbose=1\n",
        ")\n",
        "\n",
        "# Save final model\n",
        "model.save(\"final_efficientnetb1.keras\")\n",
        "print(\"Saved final_efficientnetb1.keras\")\n"
      ],
      "metadata": {
        "id": "B0tZdXqJRwb4",
        "colab": {
          "base_uri": "https://localhost:8080/"
        },
        "outputId": "33b8a68f-7ba6-4934-e8fc-ba226ec263ae"
      },
      "execution_count": null,
      "outputs": [
        {
          "output_type": "stream",
          "name": "stdout",
          "text": [
            "Epoch 1/10\n",
            "    493/Unknown \u001b[1m347s\u001b[0m 631ms/step - accuracy: 0.9042 - loss: 0.3139\n",
            "Epoch 1: val_loss improved from inf to 0.20702, saving model to resnet101_finetuned.keras\n",
            "\u001b[1m493/493\u001b[0m \u001b[32m━━━━━━━━━━━━━━━━━━━━\u001b[0m\u001b[37m\u001b[0m \u001b[1m365s\u001b[0m 667ms/step - accuracy: 0.9042 - loss: 0.3138 - val_accuracy: 0.9440 - val_loss: 0.2070 - learning_rate: 1.0000e-05\n",
            "Epoch 2/10\n",
            "\u001b[1m493/493\u001b[0m \u001b[32m━━━━━━━━━━━━━━━━━━━━\u001b[0m\u001b[37m\u001b[0m \u001b[1m0s\u001b[0m 601ms/step - accuracy: 0.9346 - loss: 0.1858\n",
            "Epoch 2: val_loss improved from 0.20702 to 0.19074, saving model to resnet101_finetuned.keras\n",
            "\u001b[1m493/493\u001b[0m \u001b[32m━━━━━━━━━━━━━━━━━━━━\u001b[0m\u001b[37m\u001b[0m \u001b[1m310s\u001b[0m 628ms/step - accuracy: 0.9346 - loss: 0.1858 - val_accuracy: 0.9460 - val_loss: 0.1907 - learning_rate: 1.0000e-05\n",
            "Epoch 3/10\n",
            "\u001b[1m493/493\u001b[0m \u001b[32m━━━━━━━━━━━━━━━━━━━━\u001b[0m\u001b[37m\u001b[0m \u001b[1m0s\u001b[0m 600ms/step - accuracy: 0.9499 - loss: 0.1514\n",
            "Epoch 3: val_loss improved from 0.19074 to 0.17773, saving model to resnet101_finetuned.keras\n",
            "\u001b[1m493/493\u001b[0m \u001b[32m━━━━━━━━━━━━━━━━━━━━\u001b[0m\u001b[37m\u001b[0m \u001b[1m322s\u001b[0m 628ms/step - accuracy: 0.9499 - loss: 0.1514 - val_accuracy: 0.9460 - val_loss: 0.1777 - learning_rate: 1.0000e-05\n",
            "Epoch 4/10\n",
            "\u001b[1m493/493\u001b[0m \u001b[32m━━━━━━━━━━━━━━━━━━━━\u001b[0m\u001b[37m\u001b[0m \u001b[1m0s\u001b[0m 603ms/step - accuracy: 0.9560 - loss: 0.1364\n",
            "Epoch 4: val_loss improved from 0.17773 to 0.17557, saving model to resnet101_finetuned.keras\n",
            "\u001b[1m493/493\u001b[0m \u001b[32m━━━━━━━━━━━━━━━━━━━━\u001b[0m\u001b[37m\u001b[0m \u001b[1m321s\u001b[0m 627ms/step - accuracy: 0.9560 - loss: 0.1364 - val_accuracy: 0.9507 - val_loss: 0.1756 - learning_rate: 1.0000e-05\n",
            "Epoch 5/10\n",
            "\u001b[1m493/493\u001b[0m \u001b[32m━━━━━━━━━━━━━━━━━━━━\u001b[0m\u001b[37m\u001b[0m \u001b[1m0s\u001b[0m 602ms/step - accuracy: 0.9648 - loss: 0.1024\n",
            "Epoch 5: val_loss improved from 0.17557 to 0.16402, saving model to resnet101_finetuned.keras\n",
            "\u001b[1m493/493\u001b[0m \u001b[32m━━━━━━━━━━━━━━━━━━━━\u001b[0m\u001b[37m\u001b[0m \u001b[1m308s\u001b[0m 625ms/step - accuracy: 0.9648 - loss: 0.1024 - val_accuracy: 0.9558 - val_loss: 0.1640 - learning_rate: 1.0000e-05\n",
            "Epoch 6/10\n",
            "\u001b[1m493/493\u001b[0m \u001b[32m━━━━━━━━━━━━━━━━━━━━\u001b[0m\u001b[37m\u001b[0m \u001b[1m0s\u001b[0m 602ms/step - accuracy: 0.9723 - loss: 0.0828\n",
            "Epoch 6: val_loss improved from 0.16402 to 0.15386, saving model to resnet101_finetuned.keras\n",
            "\u001b[1m493/493\u001b[0m \u001b[32m━━━━━━━━━━━━━━━━━━━━\u001b[0m\u001b[37m\u001b[0m \u001b[1m322s\u001b[0m 625ms/step - accuracy: 0.9723 - loss: 0.0828 - val_accuracy: 0.9609 - val_loss: 0.1539 - learning_rate: 1.0000e-05\n",
            "Epoch 7/10\n",
            "\u001b[1m493/493\u001b[0m \u001b[32m━━━━━━━━━━━━━━━━━━━━\u001b[0m\u001b[37m\u001b[0m \u001b[1m0s\u001b[0m 601ms/step - accuracy: 0.9741 - loss: 0.0710\n",
            "Epoch 7: val_loss did not improve from 0.15386\n",
            "\u001b[1m493/493\u001b[0m \u001b[32m━━━━━━━━━━━━━━━━━━━━\u001b[0m\u001b[37m\u001b[0m \u001b[1m309s\u001b[0m 618ms/step - accuracy: 0.9741 - loss: 0.0710 - val_accuracy: 0.9589 - val_loss: 0.1561 - learning_rate: 1.0000e-05\n",
            "Epoch 8/10\n",
            "\u001b[1m493/493\u001b[0m \u001b[32m━━━━━━━━━━━━━━━━━━━━\u001b[0m\u001b[37m\u001b[0m \u001b[1m0s\u001b[0m 600ms/step - accuracy: 0.9766 - loss: 0.0656\n",
            "Epoch 8: val_loss improved from 0.15386 to 0.15257, saving model to resnet101_finetuned.keras\n",
            "\u001b[1m493/493\u001b[0m \u001b[32m━━━━━━━━━━━━━━━━━━━━\u001b[0m\u001b[37m\u001b[0m \u001b[1m307s\u001b[0m 622ms/step - accuracy: 0.9766 - loss: 0.0656 - val_accuracy: 0.9604 - val_loss: 0.1526 - learning_rate: 1.0000e-05\n",
            "Epoch 9/10\n",
            "\u001b[1m493/493\u001b[0m \u001b[32m━━━━━━━━━━━━━━━━━━━━\u001b[0m\u001b[37m\u001b[0m \u001b[1m0s\u001b[0m 603ms/step - accuracy: 0.9812 - loss: 0.0527\n",
            "Epoch 9: val_loss did not improve from 0.15257\n",
            "\u001b[1m493/493\u001b[0m \u001b[32m━━━━━━━━━━━━━━━━━━━━\u001b[0m\u001b[37m\u001b[0m \u001b[1m306s\u001b[0m 621ms/step - accuracy: 0.9812 - loss: 0.0527 - val_accuracy: 0.9635 - val_loss: 0.1574 - learning_rate: 1.0000e-05\n",
            "Epoch 10/10\n",
            "\u001b[1m493/493\u001b[0m \u001b[32m━━━━━━━━━━━━━━━━━━━━\u001b[0m\u001b[37m\u001b[0m \u001b[1m0s\u001b[0m 601ms/step - accuracy: 0.9856 - loss: 0.0426\n",
            "Epoch 10: val_loss did not improve from 0.15257\n",
            "\n",
            "Epoch 10: ReduceLROnPlateau reducing learning rate to 4.999999873689376e-06.\n",
            "\u001b[1m493/493\u001b[0m \u001b[32m━━━━━━━━━━━━━━━━━━━━\u001b[0m\u001b[37m\u001b[0m \u001b[1m305s\u001b[0m 618ms/step - accuracy: 0.9856 - loss: 0.0426 - val_accuracy: 0.9599 - val_loss: 0.1550 - learning_rate: 1.0000e-05\n",
            "Restoring model weights from the end of the best epoch: 8.\n",
            "Saved final_resnet101.keras\n"
          ]
        }
      ]
    },
    {
      "cell_type": "code",
      "source": [
        "# =========================\n",
        "# Colab cell 9: Evaluation\n",
        "# =========================\n",
        "from sklearn.metrics import classification_report, confusion_matrix, precision_recall_fscore_support, accuracy_score\n",
        "import seaborn as sns\n",
        "import matplotlib.pyplot as plt\n",
        "\n",
        "# Inference on test\n",
        "y_true, y_pred = [], []\n",
        "for x_batch, y_batch in test_ds:\n",
        "    preds = model.predict(x_batch, verbose=0)\n",
        "    y_pred.extend(np.argmax(preds, axis=1).tolist())\n",
        "    y_true.extend(y_batch.numpy().tolist())\n",
        "\n",
        "y_true = np.array(y_true); y_pred = np.array(y_pred)\n",
        "acc = accuracy_score(y_true, y_pred)\n",
        "prec, rec, f1, _ = precision_recall_fscore_support(y_true, y_pred, average=\"macro\", zero_division=0)\n",
        "\n",
        "print(f\"\\nTest Accuracy: {acc:.4f}  |  Macro-Precision: {prec:.4f}  Macro-Recall: {rec:.4f}  Macro-F1: {f1:.4f}\\n\")\n",
        "print(classification_report(y_true, y_pred, target_names=classes, digits=4))\n",
        "\n",
        "# Confusion matrix\n",
        "cm = confusion_matrix(y_true, y_pred)\n",
        "plt.figure(figsize=(9,7))\n",
        "sns.heatmap(cm, cmap=\"Blues\", xticklabels=classes, yticklabels=classes, cbar=True)\n",
        "plt.title(\"Confusion Matrix — Test\"); plt.xlabel(\"Predicted\"); plt.ylabel(\"True\"); plt.tight_layout(); plt.show()\n",
        "\n",
        "# Per-class metrics CSV\n",
        "p_i, r_i, f1_i, sup_i = precision_recall_fscore_support(y_true, y_pred, labels=range(len(classes)), zero_division=0)\n",
        "df_metrics = pd.DataFrame({\"class\": classes, \"precision\": p_i, \"recall\": r_i, \"f1\": f1_i, \"support\": sup_i})\n",
        "df_metrics.to_csv(\"per_class_metrics.csv\", index=False); df_metrics.head()\n",
        "\n",
        "# Time per epoch & model size\n",
        "def path_size_mb(path):\n",
        "    import os\n",
        "    if os.path.isfile(path): return os.path.getsize(path)/(1024*1024)\n",
        "    total=0\n",
        "    for r,_,fs in os.walk(path):\n",
        "        for f in fs: total += os.path.getsize(os.path.join(r,f))\n",
        "    return total/(1024*1024)\n",
        "\n",
        "avg_time_epoch = float(np.mean(timerA.times + timerB.times)) if (timerA.times or timerB.times) else np.nan\n",
        "print(f\"Avg time/epoch (approx): {avg_time_epoch:.2f}s\")\n",
        "print(\"Model size:\", f\"{path_size_mb('final_efficientnetb1.keras'):.2f} MB\")  # <-- updated filename\n"
      ],
      "metadata": {
        "id": "lRB5hDunxLFo",
        "colab": {
          "base_uri": "https://localhost:8080/",
          "height": 1000
        },
        "outputId": "c94d8231-611f-4113-96f7-b1e1f18e0d3e"
      },
      "execution_count": null,
      "outputs": [
        {
          "output_type": "stream",
          "name": "stdout",
          "text": [
            "\n",
            "Test Accuracy: 0.9616  |  Macro-Precision: 0.9528  Macro-Recall: 0.9549  Macro-F1: 0.9533\n",
            "\n",
            "              precision    recall  f1-score   support\n",
            "\n",
            "     battery     0.9892    0.9684    0.9787        95\n",
            "  biological     0.9897    0.9600    0.9746       100\n",
            "   cardboard     0.9832    0.9670    0.9751       182\n",
            "     clothes     0.9869    0.9906    0.9888       534\n",
            "       glass     0.9732    0.9510    0.9620       306\n",
            "       metal     0.8390    0.9706    0.9000       102\n",
            "       paper     0.9524    0.9524    0.9524       168\n",
            "     plastic     0.9104    0.9196    0.9150       199\n",
            "       shoes     0.9795    0.9646    0.9720       198\n",
            "       trash     0.9239    0.9043    0.9140        94\n",
            "\n",
            "    accuracy                         0.9616      1978\n",
            "   macro avg     0.9528    0.9549    0.9533      1978\n",
            "weighted avg     0.9627    0.9616    0.9618      1978\n",
            "\n"
          ]
        },
        {
          "output_type": "display_data",
          "data": {
            "text/plain": [
              "<Figure size 900x700 with 2 Axes>"
            ],
            "image/png": "[encoded data removed]"
          },
          "metadata": {}
        },
        {
          "output_type": "stream",
          "name": "stdout",
          "text": [
            "Avg time/epoch (approx): 321.14s\n",
            "Model size: 349.73 MB\n"
          ]
        }
      ]
    },
    {
      "cell_type": "code",
      "source": [],
      "metadata": {
        "id": "B8t8tVer77TC"
      },
      "execution_count": null,
      "outputs": []
    }
  ]
}